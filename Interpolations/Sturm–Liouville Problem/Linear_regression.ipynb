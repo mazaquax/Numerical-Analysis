{
  "nbformat": 4,
  "nbformat_minor": 0,
  "metadata": {
    "colab": {
      "name": "Linear_regression.ipynb",
      "provenance": [],
      "collapsed_sections": []
    },
    "kernelspec": {
      "name": "python3",
      "display_name": "Python 3"
    }
  },
  "cells": [
    {
      "cell_type": "code",
      "metadata": {
        "id": "jTnLe3JDTidd"
      },
      "source": [
        "import numpy as np\n",
        "import pandas as pd\n",
        "from sklearn.linear_model import LinearRegression"
      ],
      "execution_count": 1,
      "outputs": []
    },
    {
      "cell_type": "code",
      "metadata": {
        "id": "_xFpNf03Vcm2",
        "outputId": "88cabb6a-662f-4dcf-ce5c-1903a661cc58",
        "colab": {
          "base_uri": "https://localhost:8080/",
          "height": 142
        }
      },
      "source": [
        "df = pd.DataFrame(columns=['1', 'lnN', 'ln(1/Err(N))'])\n",
        "lnN = []\n",
        "for N in [10, 100, 1000]:\n",
        "  lnN.append(np.log(N))\n",
        "target = np.asarray([4.555523e-3, 4.181273e-5, 4.143970e-7])\n",
        "target = -np.log(target)\n",
        "df['lnN'] = lnN\n",
        "df['ln(1/Err(N))'] = target\n",
        "df['1'] = 1\n",
        "df"
      ],
      "execution_count": 2,
      "outputs": [
        {
          "output_type": "execute_result",
          "data": {
            "text/html": [
              "<div>\n",
              "<style scoped>\n",
              "    .dataframe tbody tr th:only-of-type {\n",
              "        vertical-align: middle;\n",
              "    }\n",
              "\n",
              "    .dataframe tbody tr th {\n",
              "        vertical-align: top;\n",
              "    }\n",
              "\n",
              "    .dataframe thead th {\n",
              "        text-align: right;\n",
              "    }\n",
              "</style>\n",
              "<table border=\"1\" class=\"dataframe\">\n",
              "  <thead>\n",
              "    <tr style=\"text-align: right;\">\n",
              "      <th></th>\n",
              "      <th>1</th>\n",
              "      <th>lnN</th>\n",
              "      <th>ln(1/Err(N))</th>\n",
              "    </tr>\n",
              "  </thead>\n",
              "  <tbody>\n",
              "    <tr>\n",
              "      <th>0</th>\n",
              "      <td>1</td>\n",
              "      <td>2.302585</td>\n",
              "      <td>5.391415</td>\n",
              "    </tr>\n",
              "    <tr>\n",
              "      <th>1</th>\n",
              "      <td>1</td>\n",
              "      <td>4.605170</td>\n",
              "      <td>10.082310</td>\n",
              "    </tr>\n",
              "    <tr>\n",
              "      <th>2</th>\n",
              "      <td>1</td>\n",
              "      <td>6.907755</td>\n",
              "      <td>14.696441</td>\n",
              "    </tr>\n",
              "  </tbody>\n",
              "</table>\n",
              "</div>"
            ],
            "text/plain": [
              "   1       lnN  ln(1/Err(N))\n",
              "0  1  2.302585      5.391415\n",
              "1  1  4.605170     10.082310\n",
              "2  1  6.907755     14.696441"
            ]
          },
          "metadata": {
            "tags": []
          },
          "execution_count": 2
        }
      ]
    },
    {
      "cell_type": "code",
      "metadata": {
        "id": "uWN_ivmZYHW5",
        "outputId": "08679e8e-b97d-45ec-ae22-06706befa2a9",
        "colab": {
          "base_uri": "https://localhost:8080/"
        }
      },
      "source": [
        "LSM = LinearRegression()\n",
        "LSM.fit(df[df.columns[:-1]], df['ln(1/Err(N))'])\n",
        "LSM.coef_[1]"
      ],
      "execution_count": 3,
      "outputs": [
        {
          "output_type": "execute_result",
          "data": {
            "text/plain": [
              "2.0205608204753096"
            ]
          },
          "metadata": {
            "tags": []
          },
          "execution_count": 3
        }
      ]
    }
  ]
}